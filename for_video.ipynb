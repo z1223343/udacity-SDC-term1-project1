{
 "cells": [
  {
   "cell_type": "markdown",
   "metadata": {},
   "source": [
    "# Yaozhong Zhang project 1 "
   ]
  },
  {
   "cell_type": "code",
   "execution_count": 1,
   "metadata": {
    "scrolled": false
   },
   "outputs": [],
   "source": [
    "# Import everything needed to edit/save/watch video clips\n",
    "from moviepy.editor import VideoFileClip\n",
    "from IPython.display import HTML\n",
    "\n",
    "#here we go\n",
    "import matplotlib.pyplot as plt\n",
    "import matplotlib.image as mpimg\n",
    "import numpy as np\n",
    "import cv2\n",
    "%matplotlib inline\n"
   ]
  },
  {
   "cell_type": "markdown",
   "metadata": {},
   "source": [
    "## lane tracking"
   ]
  },
  {
   "cell_type": "code",
   "execution_count": 5,
   "metadata": {},
   "outputs": [],
   "source": [
    "def process_image(image):\n",
    "\n",
    "    # Read it as a gray image\n",
    "    gray = cv2.cvtColor(image,cv2.COLOR_RGB2GRAY)\n",
    "    kernel_size = 3\n",
    "    blur_gray = cv2.GaussianBlur(gray,(kernel_size,kernel_size),0)\n",
    "\n",
    "    #Canny edge function\n",
    "    low_threshold = 50\n",
    "    high_threshold = 150\n",
    "    edges = cv2.Canny(blur_gray,low_threshold, high_threshold)\n",
    "    \n",
    "    \n",
    "    mask = np.zeros_like(edges)\n",
    "    ignore_mask_color = 255\n",
    "\n",
    "    imshape = image.shape\n",
    "    vertices = np.array([[(80,imshape[0]),(460, 310), (imshape[1]-440, 310), (imshape[1]-70,imshape[0])]], dtype=np.int32)\n",
    "    cv2.fillPoly(mask, vertices, ignore_mask_color)\n",
    "    masked_edges = cv2.bitwise_and(edges, mask)\n",
    "\n",
    "    #to show the result so far (masking)\n",
    "    line_image = np.copy(image)*0\n",
    "\n",
    "#     color_edges = np.dstack((masked_edges,masked_edges,masked_edges))\n",
    "#     combo = cv2.addWeighted(color_edges,1.0,line_image,1.0,0)\n",
    "    # Define the Hough transform parameters\n",
    "    # Make a blank the same size as our image to draw on\n",
    "    rho = 1.1 # distance resolution in pixels of the Hough grid\n",
    "    theta = np.pi/180 # angular resolution in radians of the Hough grid\n",
    "    threshold = 3     # minimum number of votes (intersections in Hough grid cell)\n",
    "    min_line_length = 30 #minimum number of pixels making up a line\n",
    "    max_line_gap = 10   # maximum gap in pixels between connectable line segments\n",
    "    #line_image = np.copy(image)*0 # creating a blank to draw lines on\n",
    "\n",
    "    # Run Hough on edge detected image\n",
    "    # Output \"lines\" is an array containing endpoints of detected line segments\n",
    "    lines = cv2.HoughLinesP(masked_edges, rho, theta, threshold, np.array([]),min_line_length, max_line_gap)\n",
    "\n",
    "    #show hough transformation results\n",
    "    for line in lines:\n",
    "        for x1,y1,x2,y2 in line:\n",
    "            cv2.line(line_image,(x1,y1),(x2,y2),(255,0,0),10)\n",
    "    color_edges = np.dstack((masked_edges,masked_edges,masked_edges))\n",
    "\n",
    "    leftline=[]\n",
    "    rightline=[]\n",
    "    leftintercept=[]\n",
    "    rightintercept=[]\n",
    "\n",
    "    for line in lines:\n",
    "        for x1,y1,x2,y2 in line:\n",
    "            if 3>((y2-y1)/(x2-x1)) and ((y2-y1)/(x2-x1))>0.33:\n",
    "                rightline.append((y2-y1)/(x2-x1))\n",
    "                rightintercept.append(y2-((y2-y1)/(x2-x1))*x2)\n",
    "            elif -3<((y2-y1)/(x2-x1)) and ((y2-y1)/(x2-x1))<-0.33:\n",
    "                leftline.append((y2-y1)/(x2-x1))\n",
    "                leftintercept.append(y2-((y2-y1)/(x2-x1))*x2)\n",
    "\n",
    "    # get left/right average slope\n",
    "\n",
    "    sum = 0\n",
    "    for i in leftline:\n",
    "        sum = sum +i\n",
    "    a_leftline = sum/len(leftline)\n",
    "\n",
    "    sum = 0\n",
    "    for i in rightline:\n",
    "        sum = sum +i\n",
    "    a_rightline = sum/len(rightintercept)\n",
    "\n",
    "    sum = 0\n",
    "    for i in leftintercept:\n",
    "        sum = sum +i\n",
    "    a_leftintercept = sum/len(leftintercept)\n",
    "\n",
    "    sum = 0\n",
    "    for i in rightintercept:\n",
    "        sum = sum +i\n",
    "    a_rightintercept = sum/len(rightintercept)\n",
    "    \n",
    "    y_1 = 320\n",
    "    y_2 = 540\n",
    "    x_l1 = (y_1-a_leftintercept)/a_leftline\n",
    "    x_l2 = (y_2-a_leftintercept)/a_leftline\n",
    "    x_r1 = (y_1-a_rightintercept)/a_rightline\n",
    "    x_r2 = (y_2-a_rightintercept)/a_rightline\n",
    "    \n",
    "    cv2.line(image,(int(x_l1),y_1),(int(x_l2),y_2),(255,0,0),5)\n",
    "    cv2.line(image,(int(x_r1),y_1),(int(x_r2),y_2),(0,0,255),5)\n",
    "    \n",
    "    image_final = image\n",
    "    \n",
    "    return image_final"
   ]
  },
  {
   "cell_type": "code",
   "execution_count": 6,
   "metadata": {},
   "outputs": [
    {
     "name": "stdout",
     "output_type": "stream",
     "text": [
      "[MoviePy] >>>> Building video test_videos_output/solidYellowLeft.mp4\n",
      "[MoviePy] Writing video test_videos_output/solidYellowLeft.mp4\n"
     ]
    },
    {
     "name": "stderr",
     "output_type": "stream",
     "text": [
      "100%|███████████████████████████████████████████████████████████████████████████████▉| 681/682 [00:14<00:00, 47.89it/s]\n"
     ]
    },
    {
     "name": "stdout",
     "output_type": "stream",
     "text": [
      "[MoviePy] Done.\n",
      "[MoviePy] >>>> Video ready: test_videos_output/solidYellowLeft.mp4 \n",
      "\n",
      "Wall time: 14.8 s\n"
     ]
    }
   ],
   "source": [
    "white_output = 'test_videos_output/solidYellowLeft.mp4'\n",
    "# clip1 = VideoFileClip(\"test_videos/challenge.mp4\").subclip(0,5)\n",
    "clip1 = VideoFileClip(\"test_videos/solidYellowLeft.mp4\")\n",
    "white_clip = clip1.fl_image(process_image) #NOTE: this function expects color images!!\n",
    "%time white_clip.write_videofile(white_output, audio=False)"
   ]
  },
  {
   "cell_type": "code",
   "execution_count": 9,
   "metadata": {},
   "outputs": [
    {
     "data": {
      "text/html": [
       "\n",
       "<video width=\"960\" height=\"540\" controls>\n",
       "  <source src=\"test_videos_output/solidYellowLeft.mp4\">\n",
       "</video>\n"
      ],
      "text/plain": [
       "<IPython.core.display.HTML object>"
      ]
     },
     "execution_count": 9,
     "metadata": {},
     "output_type": "execute_result"
    }
   ],
   "source": [
    "HTML(\"\"\"\n",
    "<video width=\"960\" height=\"540\" controls>\n",
    "  <source src=\"{0}\">\n",
    "</video>\n",
    "\"\"\".format(white_output))"
   ]
  },
  {
   "cell_type": "code",
   "execution_count": null,
   "metadata": {},
   "outputs": [],
   "source": []
  }
 ],
 "metadata": {
  "kernelspec": {
   "display_name": "Python 3",
   "language": "python",
   "name": "python3"
  },
  "language_info": {
   "codemirror_mode": {
    "name": "ipython",
    "version": 3
   },
   "file_extension": ".py",
   "mimetype": "text/x-python",
   "name": "python",
   "nbconvert_exporter": "python",
   "pygments_lexer": "ipython3",
   "version": "3.5.2"
  },
  "widgets": {
   "state": {},
   "version": "1.1.2"
  }
 },
 "nbformat": 4,
 "nbformat_minor": 2
}
